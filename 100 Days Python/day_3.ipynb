{
 "cells": [
  {
   "cell_type": "code",
   "id": "initial_id",
   "metadata": {
    "collapsed": true,
    "ExecuteTime": {
     "end_time": "2025-01-15T11:10:59.391199Z",
     "start_time": "2025-01-15T11:10:59.388012Z"
    }
   },
   "source": [
    "a= 10\n",
    "b=11\n",
    "if a ==10 and b==11:\n",
    "    print(\"YES\")\n"
   ],
   "outputs": [
    {
     "name": "stdout",
     "output_type": "stream",
     "text": [
      "YES\n"
     ]
    }
   ],
   "execution_count": 1
  },
  {
   "metadata": {
    "ExecuteTime": {
     "end_time": "2025-01-15T13:58:09.047501Z",
     "start_time": "2025-01-15T13:58:09.032875Z"
    }
   },
   "cell_type": "code",
   "source": [
    "if a!=10:\n",
    "    print(\"NO\")"
   ],
   "id": "3696168592ef0cbf",
   "outputs": [],
   "execution_count": 3
  },
  {
   "metadata": {
    "ExecuteTime": {
     "end_time": "2025-01-15T13:58:44.104426Z",
     "start_time": "2025-01-15T13:58:44.090519Z"
    }
   },
   "cell_type": "code",
   "source": [
    "import random\n",
    "\n",
    "n = random.randint(1,123)\n",
    "print(n)"
   ],
   "id": "1012a03394193337",
   "outputs": [
    {
     "name": "stdout",
     "output_type": "stream",
     "text": [
      "82\n"
     ]
    }
   ],
   "execution_count": 4
  }
 ],
 "metadata": {
  "kernelspec": {
   "display_name": "Python 3",
   "language": "python",
   "name": "python3"
  },
  "language_info": {
   "codemirror_mode": {
    "name": "ipython",
    "version": 2
   },
   "file_extension": ".py",
   "mimetype": "text/x-python",
   "name": "python",
   "nbconvert_exporter": "python",
   "pygments_lexer": "ipython2",
   "version": "2.7.6"
  }
 },
 "nbformat": 4,
 "nbformat_minor": 5
}
